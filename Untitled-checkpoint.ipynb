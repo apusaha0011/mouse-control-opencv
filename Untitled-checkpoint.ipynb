{
 "cells": [
  {
   "cell_type": "code",
   "execution_count": 1,
   "id": "1c1c9034-10f8-4bfe-8347-a73b19691269",
   "metadata": {},
   "outputs": [],
   "source": [
    "import cv2\n",
    "import mediapipe as mp  "
   ]
  },
  {
   "cell_type": "code",
   "execution_count": 15,
   "id": "a7a8187a-5f67-4532-a4e6-c4d77f8fedb2",
   "metadata": {},
   "outputs": [
    {
     "name": "stdout",
     "output_type": "stream",
     "text": [
      "Requirement already satisfied: mediapipe in c:\\users\\admin\\appdata\\roaming\\python\\python312\\site-packages (0.10.21)\n",
      "Requirement already satisfied: absl-py in c:\\users\\admin\\anaconda3\\lib\\site-packages (from mediapipe) (2.2.2)\n",
      "Requirement already satisfied: attrs>=19.1.0 in c:\\users\\admin\\anaconda3\\lib\\site-packages (from mediapipe) (23.1.0)\n",
      "Requirement already satisfied: flatbuffers>=2.0 in c:\\users\\admin\\anaconda3\\lib\\site-packages (from mediapipe) (25.2.10)\n",
      "Requirement already satisfied: jax in c:\\users\\admin\\appdata\\roaming\\python\\python312\\site-packages (from mediapipe) (0.6.0)\n",
      "Requirement already satisfied: jaxlib in c:\\users\\admin\\appdata\\roaming\\python\\python312\\site-packages (from mediapipe) (0.6.0)\n",
      "Requirement already satisfied: matplotlib in c:\\users\\admin\\anaconda3\\lib\\site-packages (from mediapipe) (3.9.2)\n",
      "Requirement already satisfied: numpy<2 in c:\\users\\admin\\anaconda3\\lib\\site-packages (from mediapipe) (1.26.4)\n",
      "Requirement already satisfied: opencv-contrib-python in c:\\users\\admin\\appdata\\roaming\\python\\python312\\site-packages (from mediapipe) (4.11.0.86)\n",
      "Requirement already satisfied: protobuf<5,>=4.25.3 in c:\\users\\admin\\anaconda3\\lib\\site-packages (from mediapipe) (4.25.3)\n",
      "Requirement already satisfied: sounddevice>=0.4.4 in c:\\users\\admin\\appdata\\roaming\\python\\python312\\site-packages (from mediapipe) (0.5.1)\n",
      "Requirement already satisfied: sentencepiece in c:\\users\\admin\\anaconda3\\lib\\site-packages (from mediapipe) (0.2.0)\n",
      "Requirement already satisfied: CFFI>=1.0 in c:\\users\\admin\\anaconda3\\lib\\site-packages (from sounddevice>=0.4.4->mediapipe) (1.17.1)\n",
      "Requirement already satisfied: ml_dtypes>=0.5.0 in c:\\users\\admin\\anaconda3\\lib\\site-packages (from jax->mediapipe) (0.5.1)\n",
      "Requirement already satisfied: opt_einsum in c:\\users\\admin\\anaconda3\\lib\\site-packages (from jax->mediapipe) (3.4.0)\n",
      "Requirement already satisfied: scipy>=1.11.1 in c:\\users\\admin\\anaconda3\\lib\\site-packages (from jax->mediapipe) (1.13.1)\n",
      "Requirement already satisfied: contourpy>=1.0.1 in c:\\users\\admin\\anaconda3\\lib\\site-packages (from matplotlib->mediapipe) (1.2.0)\n",
      "Requirement already satisfied: cycler>=0.10 in c:\\users\\admin\\anaconda3\\lib\\site-packages (from matplotlib->mediapipe) (0.11.0)\n",
      "Requirement already satisfied: fonttools>=4.22.0 in c:\\users\\admin\\anaconda3\\lib\\site-packages (from matplotlib->mediapipe) (4.51.0)\n",
      "Requirement already satisfied: kiwisolver>=1.3.1 in c:\\users\\admin\\anaconda3\\lib\\site-packages (from matplotlib->mediapipe) (1.4.4)\n",
      "Requirement already satisfied: packaging>=20.0 in c:\\users\\admin\\anaconda3\\lib\\site-packages (from matplotlib->mediapipe) (24.1)\n",
      "Requirement already satisfied: pillow>=8 in c:\\users\\admin\\anaconda3\\lib\\site-packages (from matplotlib->mediapipe) (10.4.0)\n",
      "Requirement already satisfied: pyparsing>=2.3.1 in c:\\users\\admin\\anaconda3\\lib\\site-packages (from matplotlib->mediapipe) (3.1.2)\n",
      "Requirement already satisfied: python-dateutil>=2.7 in c:\\users\\admin\\anaconda3\\lib\\site-packages (from matplotlib->mediapipe) (2.9.0.post0)\n",
      "Requirement already satisfied: pycparser in c:\\users\\admin\\anaconda3\\lib\\site-packages (from CFFI>=1.0->sounddevice>=0.4.4->mediapipe) (2.21)\n",
      "Requirement already satisfied: six>=1.5 in c:\\users\\admin\\anaconda3\\lib\\site-packages (from python-dateutil>=2.7->matplotlib->mediapipe) (1.16.0)\n"
     ]
    }
   ],
   "source": [
    "!pip install mediapipe"
   ]
  },
  {
   "cell_type": "code",
   "execution_count": 2,
   "id": "4d32451a-4c86-49d6-9e84-ad8e8f4fd76d",
   "metadata": {},
   "outputs": [],
   "source": [
    "mphands = mp.solutions.hands\n",
    "hands = mphands.Hands(\n",
    "    static_image_mode=False,\n",
    "    model_complexity=1,\n",
    "    min_detection_confidence=0.7,\n",
    "    min_tracking_confidence=0.7,\n",
    "    max_num_hands= 1\n",
    ")"
   ]
  },
  {
   "cell_type": "code",
   "execution_count": 3,
   "id": "5217e133-3ade-4a2e-83d7-b7fbec45f55b",
   "metadata": {},
   "outputs": [],
   "source": [
    "import util"
   ]
  },
  {
   "cell_type": "code",
   "execution_count": 4,
   "id": "0ca4444a-a702-46bd-ab9e-a94d799a0e43",
   "metadata": {},
   "outputs": [],
   "source": [
    "def find_finger_tip(processed):\n",
    "    if processed.multi_hand_landmarks:\n",
    "        hand_landmarks = processed.multi_hand_landmarks[0]\n",
    "        return hand_landmarks.landmark[mphands.HandLandmark.INDEX_FINGER_TIP]\n",
    "    return None"
   ]
  },
  {
   "cell_type": "code",
   "execution_count": 5,
   "id": "09938e88-ae61-4f70-ae71-5edc0eee6460",
   "metadata": {},
   "outputs": [],
   "source": [
    "import pyautogui "
   ]
  },
  {
   "cell_type": "code",
   "execution_count": 6,
   "id": "f5c72478-f705-4ba2-9947-4e57c79b7f52",
   "metadata": {},
   "outputs": [],
   "source": [
    "screen_width, screen_height = pyautogui.size()"
   ]
  },
  {
   "cell_type": "code",
   "execution_count": 7,
   "id": "f1406638-2f5e-4b41-809c-7ac132115f37",
   "metadata": {},
   "outputs": [],
   "source": [
    "def move_mouse(index_finger_tip):\n",
    "    if index_finger_tip is not None:\n",
    "        x=int(index_finger_tip.x * screen_width )\n",
    "        y=int(index_finger_tip.y * screen_height) \n",
    "        pyautogui.moveTo(x,y) "
   ]
  },
  {
   "cell_type": "code",
   "execution_count": 8,
   "id": "18da753e-07e3-44fc-bdda-3ef6311d9917",
   "metadata": {},
   "outputs": [],
   "source": [
    "def is_left_click(landmarks_list, thumb_index_dist):\n",
    "    return(util.get_angle(landmarks_list[5],landmarks_list[6],landmarks_list[8])<50 and \n",
    "          util.get_angle(landmarks_list[9],landmarks_list[10],landmarks_list[12])>90 and\n",
    "          thumb_index_dist>50\n",
    "          )\n",
    "def is_right_click(landmarks_list, thumb_index_dist):\n",
    "    return(util.get_angle(landmarks_list[9],landmarks_list[10],landmarks_list[12])<50 and \n",
    "          util.get_angle(landmarks_list[5],landmarks_list[6],landmarks_list[8])>90 and\n",
    "          thumb_index_dist>50\n",
    "          )\n",
    "def is_double_click(landmarks_list, thumb_index_dist):\n",
    "    return(util.get_angle(landmarks_list[5],landmarks_list[6],landmarks_list[8])<50 and \n",
    "          util.get_angle(landmarks_list[9],landmarks_list[10],landmarks_list[12])<50 and\n",
    "          thumb_index_dist>50\n",
    "          )\n",
    "def is_ss(landmarks_list, thumb_index_dist):\n",
    "    return(util.get_angle(landmarks_list[5],landmarks_list[6],landmarks_list[8])<50 and \n",
    "          util.get_angle(landmarks_list[9],landmarks_list[10],landmarks_list[12])<50 and\n",
    "          thumb_index_dist<50\n",
    "          )"
   ]
  },
  {
   "cell_type": "code",
   "execution_count": 9,
   "id": "41558e79-ea81-4c91-9993-66134dc54c9d",
   "metadata": {},
   "outputs": [],
   "source": [
    "#!pip install pynput \n",
    "from pynput.mouse import Button,Controller\n",
    "mouse = Controller()"
   ]
  },
  {
   "cell_type": "code",
   "execution_count": 15,
   "id": "90a383f3-f7ae-49d2-a438-56956cfd5e44",
   "metadata": {},
   "outputs": [],
   "source": [
    "def detect_gestures(frame, landmarks_list, processed):\n",
    "    if len(landmarks_list)>=21:\n",
    "        index_finger_tip = find_finger_tip(processed) \n",
    "        thumb_index_dist = util.get_distance((landmarks_list[4],landmarks_list[5]))\n",
    "        if thumb_index_dist< 50 and util.get_angle(landmarks_list[5],landmarks_list[6],landmarks_list[8])>90:\n",
    "            move_mouse(index_finger_tip)\n",
    "        elif is_left_click(landmarks_list, thumb_index_dist):\n",
    "            mouse.press(Button.left)\n",
    "            mouse.release(Button.left)\n",
    "            cv2.putText(frame, \"left_click\", (50,50), cv2.FONT_HERSHEY_SIMPLEX, 1,(0,255,0),2)\n",
    "        elif is_right_click(landmarks_list, thumb_index_dist):\n",
    "            mouse.press(Button.right)\n",
    "            mouse.release(Button.right)\n",
    "            cv2.putText(frame, \"right_click\", (50,50), cv2.FONT_HERSHEY_SIMPLEX, 1,(0,0,255),2)\n",
    "        elif is_double_click(landmarks_list, thumb_index_dist):\n",
    "            pyautogui.doubleClick()\n",
    "            cv2.putText(frame, \"Double_click\", (50,50), cv2.FONT_HERSHEY_SIMPLEX, 1,(0,0,255),2)\n",
    "\n",
    "        elif is_ss(landmarks_list, thumb_index_dist):\n",
    "            im = pyautogui.screenshot()\n",
    "            label = random.randint(1, 1000)\n",
    "            im.save(f'screenshot_{label}.png')\n",
    "            cv2.putText(frame, \"screenshot\", (50,50), cv2.FONT_HERSHEY_SIMPLEX, 1,(0,0,255),2)\n",
    "\n"
   ]
  },
  {
   "cell_type": "code",
   "execution_count": 17,
   "id": "be0a74b5-a2f2-4df3-a0fb-b6beccb581b7",
   "metadata": {},
   "outputs": [],
   "source": [
    "def main():\n",
    "    cap = cv2.VideoCapture(0)\n",
    "    draw = mp.solutions.drawing_utils\n",
    "    try:\n",
    "        while cap.isOpened():\n",
    "            ret, frame = cap.read()\n",
    "\n",
    "            if not ret:\n",
    "                break\n",
    "            frame= cv2.flip(frame ,1)\n",
    "            frameRGB= cv2.cvtColor(frame, cv2.COLOR_BGR2RGB)\n",
    "\n",
    "            processed= hands.process(frameRGB)\n",
    "            landmarks_list= []\n",
    "            if processed.multi_hand_landmarks:\n",
    "                hand_landmarks = processed.multi_hand_landmarks[0]\n",
    "                draw.draw_landmarks(frame, hand_landmarks, mphands.HAND_CONNECTIONS)\n",
    "\n",
    "                for lm in hand_landmarks.landmark:\n",
    "                    landmarks_list.append((lm.x, lm.y))\n",
    "\n",
    "            detect_gestures(frame, landmarks_list, processed)\n",
    "\n",
    "                #print(landmarks_list)\n",
    "            \n",
    "            cv2.imshow('frame', frame) \n",
    "            if cv2.waitKey(1) & 0xFF == ord('q'):\n",
    "                break\n",
    "\n",
    "    finally:\n",
    "        cap.release()\n",
    "        cv2.destroyAllWindows()\n",
    "\n",
    "if __name__== '__main__':\n",
    "    main()"
   ]
  },
  {
   "cell_type": "code",
   "execution_count": null,
   "id": "20971ff5-efeb-402b-8752-36ef7b9fcadd",
   "metadata": {},
   "outputs": [],
   "source": []
  }
 ],
 "metadata": {
  "kernelspec": {
   "display_name": "Python 3 (ipykernel)",
   "language": "python",
   "name": "python3"
  },
  "language_info": {
   "codemirror_mode": {
    "name": "ipython",
    "version": 3
   },
   "file_extension": ".py",
   "mimetype": "text/x-python",
   "name": "python",
   "nbconvert_exporter": "python",
   "pygments_lexer": "ipython3",
   "version": "3.12.7"
  }
 },
 "nbformat": 4,
 "nbformat_minor": 5
}
